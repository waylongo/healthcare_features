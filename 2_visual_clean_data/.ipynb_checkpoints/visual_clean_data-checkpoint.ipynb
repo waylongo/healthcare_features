{
 "cells": [
  {
   "cell_type": "code",
   "execution_count": null,
   "metadata": {},
   "outputs": [],
   "source": [
    "import pandas as pd\n",
    "import numpy as np\n",
    "from pandas import Series, DataFrame\n",
    "import matplotlib.pyplot as plt\n",
    "%matplotlib inline\n",
    "%config inlinebackend.figure_format='retina'\n",
    "from datetime import datetime, timedelta\n",
    "import seaborn as sns\n",
    "import warnings\n",
    "warnings.filterwarnings('ignore')\n",
    "\n",
    "data = pd.read_csv(\"../1_clean_raw_data/dataset/Bed_Motion_data_id3003.csv\")\n",
    "data['Date'] = pd.to_datetime(data['Date'])\n",
    "data.set_index(\"Date\", inplace=True)"
   ]
  },
  {
   "cell_type": "code",
   "execution_count": null,
   "metadata": {},
   "outputs": [],
   "source": [
    "def generate_oneday_firings(year, month, day, index):\n",
    "    date_str = str(year) + '-' + str(month) + '-' + str(day)\n",
    "    some_day_starter = datetime(year,month,day)\n",
    "    # all sensor firing plot on particular day\n",
    "    some_day = data[date_str]\n",
    "    some_day['hour_in_day'] = (some_day.index-some_day_starter).seconds/3600\n",
    "    some_period = some_day[some_day['hour_in_day'] > 0 ]\n",
    "    some_period = some_period[some_period['hour_in_day'] < 24]\n",
    "    sns.set_style('darkgrid')\n",
    "    sns.set_context('talk', font_scale=1, rc={'lines.linewidth':22})\n",
    "    plt.figure(figsize=(20, 10))\n",
    "    plt.xlim(0, 24)\n",
    "    order=[\"PulseLow\", \"PulseNormal\", \"BreathingLow\", \"BreathingNormal\", \"BreathingHigh\", \"Restlessness1\", \"Restlessness2\", \"Restlessness3\", \"Restlessness4\",\"BedMotion\", \"BedRoom\",\"Closet\",\"Shower\",\"BathRoom\", \"LivingRoom\", \"FrontDoor\", \"Kitchen\"]\n",
    "    ax = sns.stripplot(x=\"hour_in_day\", y=\"Location\", order=order, data=some_period, jitter=True)\n",
    "    ax.set_title('Bed and motion sensor firings on ' + date_str)\n",
    "    ax.tick_params(axis='x',labelsize=20)\n",
    "    my_x_ticks = np.arange(0, 25, 1)\n",
    "    plt.xticks(my_x_ticks)\n",
    "    fig = ax.get_figure()\n",
    "    fig.set_size_inches(18, 6)\n",
    "    if len(some_day.index) > 150:\n",
    "        #fig.savefig('visualiztion_add_kitchen\\Firings map on '+ date_str + '.png', dpi=150) \n",
    "        #fig.savefig('video\\\\'+ str(index) + '.png', dpi=200) \n",
    "        index = index + 1\n",
    "    return index"
   ]
  },
  {
   "cell_type": "code",
   "execution_count": null,
   "metadata": {},
   "outputs": [],
   "source": [
    "start = datetime(2005, 10, 10)\n",
    "end = datetime(2007, 1, 28)\n",
    "rng = pd.date_range(start, end)\n",
    "day_len = len(rng)\n",
    "index = 1;\n",
    "for i in range(day_len):\n",
    "    year = int(rng[i].strftime('%Y'))\n",
    "    month = int(rng[i].strftime('%m'))\n",
    "    day = int(rng[i].strftime('%d'))\n",
    "    index = generate_oneday_firings(year, month, day, index)"
   ]
  },
  {
   "cell_type": "code",
   "execution_count": null,
   "metadata": {},
   "outputs": [],
   "source": []
  }
 ],
 "metadata": {
  "kernelspec": {
   "display_name": "Python 3",
   "language": "python",
   "name": "python3"
  },
  "language_info": {
   "codemirror_mode": {
    "name": "ipython",
    "version": 3
   },
   "file_extension": ".py",
   "mimetype": "text/x-python",
   "name": "python",
   "nbconvert_exporter": "python",
   "pygments_lexer": "ipython3",
   "version": "3.6.4"
  }
 },
 "nbformat": 4,
 "nbformat_minor": 2
}
