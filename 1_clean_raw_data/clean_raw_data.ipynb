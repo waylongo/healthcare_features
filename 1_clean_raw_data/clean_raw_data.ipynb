{
 "cells": [
  {
   "cell_type": "code",
   "execution_count": null,
   "metadata": {},
   "outputs": [],
   "source": [
    "import pandas as pd\n",
    "import numpy as np\n",
    "from pandas import Series,DataFrame\n",
    "import matplotlib.pyplot as plt\n",
    "import seaborn as sns\n",
    "\n",
    "data = pd.read_csv(\"dataset/raw_data_id3003.csv\")\n",
    "data.tail()"
   ]
  },
  {
   "cell_type": "code",
   "execution_count": null,
   "metadata": {},
   "outputs": [],
   "source": [
    "data = data.drop(['UserID', 'SensorData', 'RecordAddedOn'], axis=1)\n",
    "data['Date'] = pd.to_datetime(data['Date'])\n",
    "data.sort_values('Date', inplace=True)\n",
    "data.tail()"
   ]
  },
  {
   "cell_type": "code",
   "execution_count": null,
   "metadata": {
    "scrolled": true
   },
   "outputs": [],
   "source": [
    "data[data['SensorID'] == 20]"
   ]
  },
  {
   "cell_type": "code",
   "execution_count": null,
   "metadata": {},
   "outputs": [],
   "source": [
    "data = data.reset_index(drop=True)"
   ]
  },
  {
   "cell_type": "code",
   "execution_count": null,
   "metadata": {},
   "outputs": [],
   "source": [
    "data = data.drop_duplicates()\n",
    "data.head(20)"
   ]
  },
  {
   "cell_type": "code",
   "execution_count": null,
   "metadata": {},
   "outputs": [],
   "source": [
    "data.info()"
   ]
  },
  {
   "cell_type": "code",
   "execution_count": null,
   "metadata": {},
   "outputs": [],
   "source": [
    "data['Date'] = pd.to_datetime(data['Date'])\n",
    "data = data.set_index(['Date'])\n",
    "data.info()"
   ]
  },
  {
   "cell_type": "code",
   "execution_count": null,
   "metadata": {
    "scrolled": false
   },
   "outputs": [],
   "source": [
    "data.head(20)"
   ]
  },
  {
   "cell_type": "code",
   "execution_count": null,
   "metadata": {},
   "outputs": [],
   "source": [
    "#delete other useless data\n",
    "data = data[data['SensorID'] != 4]\n",
    "data = data[data['SensorID'] != 8]\n",
    "data = data[data['SensorID'] != 9]\n",
    "data = data[data['SensorID'] != 11]\n",
    "data = data[data['SensorID'] != 14]\n",
    "data = data[data['SensorID'] != 22]\n",
    "data = data[data['SensorID'] != 23]\n",
    "data = data[data['SensorID'] != 24]\n",
    "data = data[data['SensorID'] != 25]\n",
    "data = data[data['SensorID'] != 26]\n",
    "data = data[data['SensorID'] != 27]\n",
    "data = data[data['SensorID'] != 30]"
   ]
  },
  {
   "cell_type": "code",
   "execution_count": null,
   "metadata": {},
   "outputs": [],
   "source": [
    "# add linguistic description\n",
    "data['Location']=None\n",
    "data.loc[data['SensorID'] == 1,'Location'] = \"FrontDoor\"\n",
    "data.loc[data['SensorID'] == 2,'Location'] = \"Closet\"\n",
    "data.loc[data['SensorID'] == 3,'Location'] = \"LivingRoom\"\n",
    "data.loc[data['SensorID'] == 5,'Location'] = \"BedRoom\"\n",
    "data.loc[data['SensorID'] == 6,'Location'] = \"BathRoom\"\n",
    "data.loc[data['SensorID'] == 7,'Location'] = \"Shower\"\n",
    "data.loc[data['SensorID'] == 10,'Location'] = \"BedMotion\"\n",
    "data.loc[data['SensorID'] == 12,'Location'] = \"PulseLow\"\n",
    "data.loc[data['SensorID'] == 13,'Location'] = \"PulseNormal\"\n",
    "data.loc[data['SensorID'] == 15,'Location'] = \"Restlessness1\"\n",
    "data.loc[data['SensorID'] == 16,'Location'] = \"Restlessness2\"\n",
    "data.loc[data['SensorID'] == 17,'Location'] = \"Restlessness3\"\n",
    "data.loc[data['SensorID'] == 18,'Location'] = \"Restlessness4\"\n",
    "data.loc[data['SensorID'] == 19,'Location'] = \"BreathingLow\"\n",
    "data.loc[data['SensorID'] == 20,'Location'] = \"BreathingNormal\"\n",
    "data.loc[data['SensorID'] == 21,'Location'] = \"BreathingHigh\"\n",
    "data.loc[data['SensorID'] == 28,'Location'] = \"Kitchen\"\n",
    "data.loc[data['SensorID'] == 29,'Location'] = \"Kitchen\"\n",
    "data"
   ]
  },
  {
   "cell_type": "code",
   "execution_count": null,
   "metadata": {},
   "outputs": [],
   "source": [
    "# changes sensorID number to be continuous\n",
    "data.loc[data['SensorID'] == 1,'SensorID'] = 1 # \"FrontDoor\"\n",
    "data.loc[data['SensorID'] == 2,'SensorID'] = 2 # \"Closet\"\n",
    "data.loc[data['SensorID'] == 3,'SensorID'] = 3 # \"LivingRoom\"\n",
    "data.loc[data['SensorID'] == 5,'SensorID'] = 4 # \"BedRoom\"\n",
    "data.loc[data['SensorID'] == 6,'SensorID'] = 5 # \"BathRoom\"\n",
    "data.loc[data['SensorID'] == 7,'SensorID'] = 6 # \"Shower\"\n",
    "data.loc[data['SensorID'] == 10,'SensorID'] = 7 # \"BedMotion\"\n",
    "data.loc[data['SensorID'] == 12,'SensorID'] = 8 # \"PulseLow\"\n",
    "data.loc[data['SensorID'] == 13,'SensorID'] = 9 # \"PulseNormal\"\n",
    "data.loc[data['SensorID'] == 15,'SensorID'] = 10 # \"Restlessness1\"\n",
    "data.loc[data['SensorID'] == 16,'SensorID'] = 11 # \"Restlessness2\"\n",
    "data.loc[data['SensorID'] == 17,'SensorID'] = 12 # \"Restlessness3\"\n",
    "data.loc[data['SensorID'] == 18,'SensorID'] = 13 # \"Restlessness4\"\n",
    "data.loc[data['SensorID'] == 19,'SensorID'] = 14 # \"BreathingLow\"\n",
    "data.loc[data['SensorID'] == 20,'SensorID'] = 15 # \"BreathingNormal\"\n",
    "data.loc[data['SensorID'] == 21,'SensorID'] = 16 # \"BreathingHigh\"\n",
    "data.loc[data['SensorID'] == 28,'SensorID'] = 17 # \"Kitchen\"\n",
    "data.loc[data['SensorID'] == 29,'SensorID'] = 17 # \"Kitchen\"\n",
    "data"
   ]
  },
  {
   "cell_type": "code",
   "execution_count": null,
   "metadata": {},
   "outputs": [],
   "source": [
    "# trim the data range\n",
    "data = data['2005-10-10':'2007-1-28']\n",
    "data"
   ]
  },
  {
   "cell_type": "code",
   "execution_count": null,
   "metadata": {},
   "outputs": [],
   "source": [
    "# visualize the firings number\n",
    "plt.figure(figsize=(15, 10))\n",
    "sns.set_style('darkgrid')\n",
    "sns.set_context('talk', font_scale=0.6, rc={'lines.linewidth':20})\n",
    "ax = sns.countplot(x=\"Location\", data=data) \n",
    "fig = ax.get_figure()\n",
    "#fig.savefig(\"sensor_firings_count.png\")"
   ]
  },
  {
   "cell_type": "code",
   "execution_count": null,
   "metadata": {},
   "outputs": [],
   "source": [
    "#data.to_csv('Bed_Motion_data_id3003_add_kitchen.csv', index=True)\n",
    "data"
   ]
  },
  {
   "cell_type": "code",
   "execution_count": null,
   "metadata": {},
   "outputs": [],
   "source": []
  },
  {
   "cell_type": "code",
   "execution_count": null,
   "metadata": {},
   "outputs": [],
   "source": []
  }
 ],
 "metadata": {
  "kernelspec": {
   "display_name": "Python 3",
   "language": "python",
   "name": "python3"
  },
  "language_info": {
   "codemirror_mode": {
    "name": "ipython",
    "version": 3
   },
   "file_extension": ".py",
   "mimetype": "text/x-python",
   "name": "python",
   "nbconvert_exporter": "python",
   "pygments_lexer": "ipython3",
   "version": "3.6.4"
  }
 },
 "nbformat": 4,
 "nbformat_minor": 2
}
